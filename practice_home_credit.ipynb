{
 "cells": [
  {
   "cell_type": "markdown",
   "metadata": {},
   "source": [
    "#1"
   ]
  },
  {
   "cell_type": "code",
   "execution_count": 1,
   "metadata": {},
   "outputs": [],
   "source": [
    "contain_file_data = 'data/csv_files'\n"
   ]
  },
  {
   "cell_type": "code",
   "execution_count": 2,
   "metadata": {},
   "outputs": [],
   "source": [
    "import pandas as pd\n",
    "import numpy as np\n",
    "import random\n",
    "import polars as pl\n",
    "import lightgbm as lgb\n",
    "import matplotlib.pyplot as plt\n",
    "from sklearn.model_selection import train_test_split\n",
    "from sklearn.metrics import roc_auc_score \n",
    "\n",
    "def covert_to_float(table: pd.DataFrame):\n",
    "    for each_col in table.columns:\n",
    "        if each_col[-1] in ['P', 'A']:\n",
    "            table[each_col] = table[each_col].astype('float64') \n",
    "            ##print(table[each_col].dtypes)\n",
    "    return table\n",
    "\n",
    "def convert_dtype(table: pd.DataFrame):\n",
    "    \n",
    "    for each_col in table.columns:\n",
    "        if table[each_col].dtypes.name in ['object', 'string']:# \n",
    "            table[each_col] = table[each_col].astype('string').astype('category')\n",
    "    \n",
    "    return table\n"
   ]
  },
  {
   "cell_type": "code",
   "execution_count": 3,
   "metadata": {},
   "outputs": [
    {
     "name": "stderr",
     "output_type": "stream",
     "text": [
      "/tmp/ipykernel_45303/1480878906.py:1: DtypeWarning: Columns (20,45,46,53,57,84,143,146,167) have mixed types. Specify dtype option on import or set low_memory=False.\n",
      "  table_train_static_0 = pd.read_csv(contain_file_data + '/train/train_static_0_0.csv')\n",
      "/tmp/ipykernel_45303/1480878906.py:4: DtypeWarning: Columns (20,45,46,56,57,84,143,146,167) have mixed types. Specify dtype option on import or set low_memory=False.\n",
      "  table_train_static_1 = pd.read_csv(contain_file_data + '/train/train_static_0_1.csv')\n",
      "/tmp/ipykernel_45303/1480878906.py:11: DtypeWarning: Columns (1,2,3,4,7,45,46,47,48) have mixed types. Specify dtype option on import or set low_memory=False.\n",
      "  train_static_cb = pd.read_csv(contain_file_data + '/train/train_static_cb_0.csv')\n",
      "/tmp/ipykernel_45303/1480878906.py:17: DtypeWarning: Columns (16) have mixed types. Specify dtype option on import or set low_memory=False.\n",
      "  train_person_1 = pd.read_csv(contain_file_data + '/train/train_person_1.csv')\n"
     ]
    }
   ],
   "source": [
    "\n",
    "table_train_static_0 = pd.read_csv(contain_file_data + '/train/train_static_0_0.csv')\n",
    "table_train_static_0 = covert_to_float(table_train_static_0)\n",
    "\n",
    "table_train_static_1 = pd.read_csv(contain_file_data + '/train/train_static_0_1.csv')\n",
    "table_train_static_1 = covert_to_float(table_train_static_1)\n",
    "\n",
    "Join_table = [table_train_static_0, table_train_static_1]\n",
    "train_static = pd.concat(Join_table)\n",
    "\n",
    "\n",
    "train_static_cb = pd.read_csv(contain_file_data + '/train/train_static_cb_0.csv')\n",
    "train_static_cb = covert_to_float(train_static_cb)\n",
    "\n",
    "train_base = pd.read_csv(contain_file_data + '/train/train_base.csv')\n",
    "train_base = covert_to_float(train_base)\n",
    "\n",
    "train_person_1 = pd.read_csv(contain_file_data + '/train/train_person_1.csv')\n",
    "train_person_1 = covert_to_float(train_person_1)\n",
    "\n",
    "\n",
    "train_credit_bureau_b_2 = pd.read_csv(contain_file_data + '/train/train_credit_bureau_b_2.csv')\n",
    "train_base = covert_to_float(train_base)"
   ]
  },
  {
   "cell_type": "code",
   "execution_count": 4,
   "metadata": {},
   "outputs": [],
   "source": [
    "table_test_static_0 = pd.read_csv(contain_file_data + '/test/test_static_0_0.csv')\n",
    "table_test_static_1 = pd.read_csv(contain_file_data + '/test/test_static_0_1.csv')\n",
    "table_test_static_2 = pd.read_csv(contain_file_data + '/test/test_static_0_2.csv')\n",
    "join_table_static = [table_test_static_0, table_test_static_1, table_test_static_2]\n",
    "test_static =  pd.concat(join_table_static)\n",
    "\n",
    "test_base = pd.read_csv(contain_file_data + '/test/test_base.csv')\n",
    "test_base = covert_to_float(test_base)\n",
    "\n",
    "test_static_cb = pd.read_csv(contain_file_data + '/test/test_static_cb_0.csv')\n",
    "test_static_cb = covert_to_float(test_static_cb)\n",
    "\n",
    "test_person_1 =  pd.read_csv(contain_file_data + '/test/test_person_1.csv')\n",
    "test_person_1 = covert_to_float(test_person_1)\n",
    "\n",
    "test_credit_bureau_b_2 = pd.read_csv(contain_file_data + '/test/test_credit_bureau_b_2.csv')\n",
    "test_credit_bureau_b_2 = covert_to_float(test_credit_bureau_b_2)\n"
   ]
  },
  {
   "cell_type": "markdown",
   "metadata": {},
   "source": [
    "#2"
   ]
  },
  {
   "cell_type": "code",
   "execution_count": 5,
   "metadata": {},
   "outputs": [
    {
     "name": "stdout",
     "output_type": "stream",
     "text": [
      "(1526659, 3)\n",
      "(1526659, 2)\n",
      "(36415, 3)\n"
     ]
    }
   ],
   "source": [
    "\n",
    "train_person_1_feats = train_person_1.loc[:, ['case_id', 'mainoccupationinc_384A', 'incometype_1044T']]\n",
    "groupby_train_person_1_feats_1_idx = train_person_1_feats.groupby('case_id')['mainoccupationinc_384A'].idxmax()\n",
    "train_person_1_feats_1 = train_person_1_feats.loc[groupby_train_person_1_feats_1_idx]\n",
    "train_person_1_feats_1['incometype_1044T'] = train_person_1_feats_1['incometype_1044T'] == 'SELFEMPLOYED' #1.1\n",
    "train_person_1_feats_1.columns = ['case_id', 'mainoccupationinc_384A_max', 'mainoccupationinc_384A_any_selfemployed']\n",
    "print(train_person_1_feats_1.shape)\n",
    "\n",
    "train_person_1_feats_2 = train_person_1.loc[:, ['case_id', 'num_group1', 'housetype_905L']] \n",
    "train_person_1_feats_2 = train_person_1_feats_2.loc[train_person_1_feats_2['num_group1'] == 0] #1.2\n",
    "train_person_1_feats_2 = train_person_1_feats_2.drop('num_group1', axis = 1)\n",
    "train_person_1_feats_2.columns = ['case_id', 'person_housetype ']\n",
    "print(train_person_1_feats_2.shape)\n",
    "\n",
    "train_cred_bureau_b_2= train_credit_bureau_b_2.loc[:, ['case_id', 'pmts_pmtsoverdue_635A', 'pmts_dpdvalue_108P']]\n",
    "groupby_train_credit_bureau_b_2_idx = train_cred_bureau_b_2.groupby('case_id')['pmts_pmtsoverdue_635A'].idxmax()\n",
    "train_credit_bureau_b_2_feats = train_cred_bureau_b_2.loc[groupby_train_credit_bureau_b_2_idx.dropna()]\n",
    "train_credit_bureau_b_2_feats['pmts_dpdvalue_108P'] = train_credit_bureau_b_2_feats['pmts_dpdvalue_108P']> 31\n",
    "train_credit_bureau_b_2_feats.columns = ['case_id', 'pmts_pmtsoverdue_635A_max', 'pmts_dpdvalue_108P_over31']\n",
    "print(train_credit_bureau_b_2_feats.shape)"
   ]
  },
  {
   "cell_type": "code",
   "execution_count": 6,
   "metadata": {},
   "outputs": [
    {
     "name": "stdout",
     "output_type": "stream",
     "text": [
      "         case_id person_housetype \n",
      "0              0               NaN\n",
      "4              1               NaN\n",
      "9              2               NaN\n",
      "14             3               NaN\n",
      "17             4               NaN\n",
      "...          ...               ...\n",
      "2973984  2703450             OWNED\n",
      "2973985  2703451               NaN\n",
      "2973987  2703452               NaN\n",
      "2973988  2703453               NaN\n",
      "2973990  2703454               NaN\n",
      "\n",
      "[1526659 rows x 2 columns]\n"
     ]
    }
   ],
   "source": [
    "selected_static_cols = []\n",
    "for col in train_static.columns:\n",
    "    if col[-1] in (\"A\"):\n",
    "        selected_static_cols.append(col)\n",
    "\n",
    "selected_static_cb_cols = []\n",
    "for col in train_static_cb.columns:\n",
    "    if col[-1] in (\"A\"):\n",
    "        selected_static_cb_cols.append(col)\n",
    "\n",
    "\n",
    "    \n",
    "data = train_base.merge(\n",
    "    train_static[['case_id'] + selected_static_cols], how=\"left\", on=\"case_id\"\n",
    ").merge(\n",
    "    train_static_cb[['case_id'] + selected_static_cb_cols], how=\"left\", on=\"case_id\"\n",
    ").merge(\n",
    "    train_person_1_feats_1, how=\"left\", on=\"case_id\"\n",
    ").merge(\n",
    "    train_person_1_feats_2, how=\"left\", on=\"case_id\"\n",
    ").merge(\n",
    "    train_credit_bureau_b_2_feats, how=\"left\", on=\"case_id\"\n",
    ")\n",
    "print(train_person_1_feats_2)"
   ]
  },
  {
   "cell_type": "code",
   "execution_count": 7,
   "metadata": {},
   "outputs": [
    {
     "name": "stdout",
     "output_type": "stream",
     "text": [
      "(3, 3)\n",
      "(3, 2)\n",
      "(1, 3)\n"
     ]
    }
   ],
   "source": [
    "test_person_1_feats = test_person_1.loc[:, ['case_id', 'mainoccupationinc_384A', 'incometype_1044T']]\n",
    "groupby_test_person_1_feats_1_idx = test_person_1_feats.groupby('case_id')['mainoccupationinc_384A'].idxmax()\n",
    "test_person_1_feats_1 = test_person_1_feats.loc[groupby_test_person_1_feats_1_idx]\n",
    "test_person_1_feats_1['incometype_1044T'] = test_person_1_feats_1['incometype_1044T'] == 'SELFEMPLOYED' #1.1\n",
    "test_person_1_feats_1.columns = ['case_id', 'mainoccupationinc_384A_max', 'mainoccupationinc_384A_any_selfemployed']\n",
    "print(test_person_1_feats_1.shape)\n",
    "\n",
    "test_person_1_feats_2 = test_person_1.loc[:, ['case_id', 'num_group1', 'housetype_905L']] \n",
    "test_person_1_feats_2 = test_person_1_feats_2.loc[test_person_1_feats_2['num_group1'] == 0] #1.2\n",
    "test_person_1_feats_2 = test_person_1_feats_2.drop('num_group1', axis = 1)\n",
    "print(test_person_1_feats_2.shape)\n",
    "\n",
    "test_cred_bureau_b_2= test_credit_bureau_b_2.loc[:, ['case_id', 'pmts_pmtsoverdue_635A', 'pmts_dpdvalue_108P']]\n",
    "groupby_test_credit_bureau_b_2_idx = test_cred_bureau_b_2.groupby('case_id')['pmts_pmtsoverdue_635A'].idxmax()\n",
    "test_credit_bureau_b_2_feats = test_cred_bureau_b_2.loc[groupby_test_credit_bureau_b_2_idx]\n",
    "test_credit_bureau_b_2_feats['pmts_dpdvalue_108P'] = test_credit_bureau_b_2_feats['pmts_dpdvalue_108P']> 31\n",
    "print(test_credit_bureau_b_2_feats.shape)"
   ]
  },
  {
   "cell_type": "code",
   "execution_count": 8,
   "metadata": {},
   "outputs": [],
   "source": [
    "data_submission = train_base.merge(\n",
    "    test_static[[\"case_id\"]+selected_static_cols], how=\"left\", on=\"case_id\"\n",
    ").merge(\n",
    "    test_static_cb[[\"case_id\"]+selected_static_cb_cols], how=\"left\", on=\"case_id\"\n",
    ").merge(\n",
    "    test_person_1_feats_1, how=\"left\", on=\"case_id\"\n",
    ").merge(\n",
    "    test_person_1_feats_2, how=\"left\", on=\"case_id\"\n",
    ").merge(\n",
    "    test_credit_bureau_b_2_feats, how=\"left\", on=\"case_id\"\n",
    ")\n"
   ]
  },
  {
   "cell_type": "code",
   "execution_count": 9,
   "metadata": {},
   "outputs": [
    {
     "name": "stdout",
     "output_type": "stream",
     "text": [
      "(305332, 35)\n"
     ]
    }
   ],
   "source": [
    "data_shuffe = data.sample(frac = 1)\n",
    "case_ids_train, case_ids_test = train_test_split(data_shuffe, train_size=0.6, random_state=1)\n",
    "case_ids_valid, case_ids_test = train_test_split(case_ids_test, train_size=0.5, random_state=1)\n",
    "\n",
    "cols_pred = []\n",
    "for col in data.columns:\n",
    "    if col[-1].isupper() and col[:-1].islower():\n",
    "        cols_pred.append(col)\n",
    "\n",
    "def separate_df(case_ids):\n",
    "    return(\n",
    "        case_ids.filter(items=[\"case_id\", \"WEEK_NUM\", \"target\"]),\n",
    "        case_ids.filter(items=cols_pred),\n",
    "        case_ids.filter(items=[\"target\"])\n",
    "    )\n",
    "\n",
    "base_train, X_train, y_train = separate_df(case_ids_train)\n",
    "base_valid, X_valid, y_valid = separate_df(case_ids_valid)\n",
    "base_test, X_test, y_test = separate_df(case_ids_test)\n",
    "\n",
    "for df in [X_train, X_valid, X_test]:\n",
    "    df = convert_dtype(df)\n",
    "print(df.shape)\n",
    "\n"
   ]
  },
  {
   "cell_type": "code",
   "execution_count": 10,
   "metadata": {},
   "outputs": [
    {
     "name": "stdout",
     "output_type": "stream",
     "text": [
      "Train: (915995, 35)\n",
      "Valid: (305332, 35)\n",
      "Test: (305332, 35)\n"
     ]
    }
   ],
   "source": [
    "print(f\"Train: {X_train.shape}\")\n",
    "print(f\"Valid: {X_valid.shape}\")\n",
    "print(f\"Test: {X_test.shape}\")"
   ]
  },
  {
   "cell_type": "code",
   "execution_count": 11,
   "metadata": {},
   "outputs": [
    {
     "name": "stdout",
     "output_type": "stream",
     "text": [
      "None\n"
     ]
    },
    {
     "ename": "ValueError",
     "evalue": "x and y can be no greater than 2D, but have shapes (101,) and (101, 1, 1)",
     "output_type": "error",
     "traceback": [
      "\u001b[0;31m---------------------------------------------------------------------------\u001b[0m",
      "\u001b[0;31mValueError\u001b[0m                                Traceback (most recent call last)",
      "Cell \u001b[0;32mIn[11], line 18\u001b[0m\n\u001b[1;32m     15\u001b[0m         his_loss\u001b[38;5;241m.\u001b[39mappend(loss)\n\u001b[1;32m     16\u001b[0m \u001b[38;5;28mprint\u001b[39m(logistic_sigmoid_regression(X_train, y_train, np\u001b[38;5;241m.\u001b[39mrandom\u001b[38;5;241m.\u001b[39mrand(\u001b[38;5;241m1\u001b[39m,\u001b[38;5;241m35\u001b[39m), \u001b[38;5;241m100\u001b[39m, \u001b[38;5;241m0.0001\u001b[39m))\n\u001b[0;32m---> 18\u001b[0m \u001b[43mplt\u001b[49m\u001b[38;5;241;43m.\u001b[39;49m\u001b[43mplot\u001b[49m\u001b[43m(\u001b[49m\u001b[43mhis_loss\u001b[49m\u001b[43m)\u001b[49m\n\u001b[1;32m     19\u001b[0m plt\u001b[38;5;241m.\u001b[39mshow()\n",
      "File \u001b[0;32m~/miniconda3/envs/home-credit/lib/python3.8/site-packages/matplotlib/pyplot.py:2812\u001b[0m, in \u001b[0;36mplot\u001b[0;34m(scalex, scaley, data, *args, **kwargs)\u001b[0m\n\u001b[1;32m   2810\u001b[0m \u001b[38;5;129m@_copy_docstring_and_deprecators\u001b[39m(Axes\u001b[38;5;241m.\u001b[39mplot)\n\u001b[1;32m   2811\u001b[0m \u001b[38;5;28;01mdef\u001b[39;00m \u001b[38;5;21mplot\u001b[39m(\u001b[38;5;241m*\u001b[39margs, scalex\u001b[38;5;241m=\u001b[39m\u001b[38;5;28;01mTrue\u001b[39;00m, scaley\u001b[38;5;241m=\u001b[39m\u001b[38;5;28;01mTrue\u001b[39;00m, data\u001b[38;5;241m=\u001b[39m\u001b[38;5;28;01mNone\u001b[39;00m, \u001b[38;5;241m*\u001b[39m\u001b[38;5;241m*\u001b[39mkwargs):\n\u001b[0;32m-> 2812\u001b[0m     \u001b[38;5;28;01mreturn\u001b[39;00m \u001b[43mgca\u001b[49m\u001b[43m(\u001b[49m\u001b[43m)\u001b[49m\u001b[38;5;241;43m.\u001b[39;49m\u001b[43mplot\u001b[49m\u001b[43m(\u001b[49m\n\u001b[1;32m   2813\u001b[0m \u001b[43m        \u001b[49m\u001b[38;5;241;43m*\u001b[39;49m\u001b[43margs\u001b[49m\u001b[43m,\u001b[49m\u001b[43m \u001b[49m\u001b[43mscalex\u001b[49m\u001b[38;5;241;43m=\u001b[39;49m\u001b[43mscalex\u001b[49m\u001b[43m,\u001b[49m\u001b[43m \u001b[49m\u001b[43mscaley\u001b[49m\u001b[38;5;241;43m=\u001b[39;49m\u001b[43mscaley\u001b[49m\u001b[43m,\u001b[49m\n\u001b[1;32m   2814\u001b[0m \u001b[43m        \u001b[49m\u001b[38;5;241;43m*\u001b[39;49m\u001b[38;5;241;43m*\u001b[39;49m\u001b[43m(\u001b[49m\u001b[43m{\u001b[49m\u001b[38;5;124;43m\"\u001b[39;49m\u001b[38;5;124;43mdata\u001b[39;49m\u001b[38;5;124;43m\"\u001b[39;49m\u001b[43m:\u001b[49m\u001b[43m \u001b[49m\u001b[43mdata\u001b[49m\u001b[43m}\u001b[49m\u001b[43m \u001b[49m\u001b[38;5;28;43;01mif\u001b[39;49;00m\u001b[43m \u001b[49m\u001b[43mdata\u001b[49m\u001b[43m \u001b[49m\u001b[38;5;129;43;01mis\u001b[39;49;00m\u001b[43m \u001b[49m\u001b[38;5;129;43;01mnot\u001b[39;49;00m\u001b[43m \u001b[49m\u001b[38;5;28;43;01mNone\u001b[39;49;00m\u001b[43m \u001b[49m\u001b[38;5;28;43;01melse\u001b[39;49;00m\u001b[43m \u001b[49m\u001b[43m{\u001b[49m\u001b[43m}\u001b[49m\u001b[43m)\u001b[49m\u001b[43m,\u001b[49m\u001b[43m \u001b[49m\u001b[38;5;241;43m*\u001b[39;49m\u001b[38;5;241;43m*\u001b[39;49m\u001b[43mkwargs\u001b[49m\u001b[43m)\u001b[49m\n",
      "File \u001b[0;32m~/miniconda3/envs/home-credit/lib/python3.8/site-packages/matplotlib/axes/_axes.py:1688\u001b[0m, in \u001b[0;36mAxes.plot\u001b[0;34m(self, scalex, scaley, data, *args, **kwargs)\u001b[0m\n\u001b[1;32m   1445\u001b[0m \u001b[38;5;250m\u001b[39m\u001b[38;5;124;03m\"\"\"\u001b[39;00m\n\u001b[1;32m   1446\u001b[0m \u001b[38;5;124;03mPlot y versus x as lines and/or markers.\u001b[39;00m\n\u001b[1;32m   1447\u001b[0m \n\u001b[0;32m   (...)\u001b[0m\n\u001b[1;32m   1685\u001b[0m \u001b[38;5;124;03m(``'green'``) or hex strings (``'#008000'``).\u001b[39;00m\n\u001b[1;32m   1686\u001b[0m \u001b[38;5;124;03m\"\"\"\u001b[39;00m\n\u001b[1;32m   1687\u001b[0m kwargs \u001b[38;5;241m=\u001b[39m cbook\u001b[38;5;241m.\u001b[39mnormalize_kwargs(kwargs, mlines\u001b[38;5;241m.\u001b[39mLine2D)\n\u001b[0;32m-> 1688\u001b[0m lines \u001b[38;5;241m=\u001b[39m [\u001b[38;5;241m*\u001b[39m\u001b[38;5;28mself\u001b[39m\u001b[38;5;241m.\u001b[39m_get_lines(\u001b[38;5;241m*\u001b[39margs, data\u001b[38;5;241m=\u001b[39mdata, \u001b[38;5;241m*\u001b[39m\u001b[38;5;241m*\u001b[39mkwargs)]\n\u001b[1;32m   1689\u001b[0m \u001b[38;5;28;01mfor\u001b[39;00m line \u001b[38;5;129;01min\u001b[39;00m lines:\n\u001b[1;32m   1690\u001b[0m     \u001b[38;5;28mself\u001b[39m\u001b[38;5;241m.\u001b[39madd_line(line)\n",
      "File \u001b[0;32m~/miniconda3/envs/home-credit/lib/python3.8/site-packages/matplotlib/axes/_base.py:311\u001b[0m, in \u001b[0;36m_process_plot_var_args.__call__\u001b[0;34m(self, data, *args, **kwargs)\u001b[0m\n\u001b[1;32m    309\u001b[0m     this \u001b[38;5;241m+\u001b[39m\u001b[38;5;241m=\u001b[39m args[\u001b[38;5;241m0\u001b[39m],\n\u001b[1;32m    310\u001b[0m     args \u001b[38;5;241m=\u001b[39m args[\u001b[38;5;241m1\u001b[39m:]\n\u001b[0;32m--> 311\u001b[0m \u001b[38;5;28;01myield from\u001b[39;00m \u001b[38;5;28;43mself\u001b[39;49m\u001b[38;5;241;43m.\u001b[39;49m\u001b[43m_plot_args\u001b[49m\u001b[43m(\u001b[49m\n\u001b[1;32m    312\u001b[0m \u001b[43m    \u001b[49m\u001b[43mthis\u001b[49m\u001b[43m,\u001b[49m\u001b[43m \u001b[49m\u001b[43mkwargs\u001b[49m\u001b[43m,\u001b[49m\u001b[43m \u001b[49m\u001b[43mambiguous_fmt_datakey\u001b[49m\u001b[38;5;241;43m=\u001b[39;49m\u001b[43mambiguous_fmt_datakey\u001b[49m\u001b[43m)\u001b[49m\n",
      "File \u001b[0;32m~/miniconda3/envs/home-credit/lib/python3.8/site-packages/matplotlib/axes/_base.py:507\u001b[0m, in \u001b[0;36m_process_plot_var_args._plot_args\u001b[0;34m(self, tup, kwargs, return_kwargs, ambiguous_fmt_datakey)\u001b[0m\n\u001b[1;32m    504\u001b[0m     \u001b[38;5;28;01mraise\u001b[39;00m \u001b[38;5;167;01mValueError\u001b[39;00m(\u001b[38;5;124mf\u001b[39m\u001b[38;5;124m\"\u001b[39m\u001b[38;5;124mx and y must have same first dimension, but \u001b[39m\u001b[38;5;124m\"\u001b[39m\n\u001b[1;32m    505\u001b[0m                      \u001b[38;5;124mf\u001b[39m\u001b[38;5;124m\"\u001b[39m\u001b[38;5;124mhave shapes \u001b[39m\u001b[38;5;132;01m{\u001b[39;00mx\u001b[38;5;241m.\u001b[39mshape\u001b[38;5;132;01m}\u001b[39;00m\u001b[38;5;124m and \u001b[39m\u001b[38;5;132;01m{\u001b[39;00my\u001b[38;5;241m.\u001b[39mshape\u001b[38;5;132;01m}\u001b[39;00m\u001b[38;5;124m\"\u001b[39m)\n\u001b[1;32m    506\u001b[0m \u001b[38;5;28;01mif\u001b[39;00m x\u001b[38;5;241m.\u001b[39mndim \u001b[38;5;241m>\u001b[39m \u001b[38;5;241m2\u001b[39m \u001b[38;5;129;01mor\u001b[39;00m y\u001b[38;5;241m.\u001b[39mndim \u001b[38;5;241m>\u001b[39m \u001b[38;5;241m2\u001b[39m:\n\u001b[0;32m--> 507\u001b[0m     \u001b[38;5;28;01mraise\u001b[39;00m \u001b[38;5;167;01mValueError\u001b[39;00m(\u001b[38;5;124mf\u001b[39m\u001b[38;5;124m\"\u001b[39m\u001b[38;5;124mx and y can be no greater than 2D, but have \u001b[39m\u001b[38;5;124m\"\u001b[39m\n\u001b[1;32m    508\u001b[0m                      \u001b[38;5;124mf\u001b[39m\u001b[38;5;124m\"\u001b[39m\u001b[38;5;124mshapes \u001b[39m\u001b[38;5;132;01m{\u001b[39;00mx\u001b[38;5;241m.\u001b[39mshape\u001b[38;5;132;01m}\u001b[39;00m\u001b[38;5;124m and \u001b[39m\u001b[38;5;132;01m{\u001b[39;00my\u001b[38;5;241m.\u001b[39mshape\u001b[38;5;132;01m}\u001b[39;00m\u001b[38;5;124m\"\u001b[39m)\n\u001b[1;32m    509\u001b[0m \u001b[38;5;28;01mif\u001b[39;00m x\u001b[38;5;241m.\u001b[39mndim \u001b[38;5;241m==\u001b[39m \u001b[38;5;241m1\u001b[39m:\n\u001b[1;32m    510\u001b[0m     x \u001b[38;5;241m=\u001b[39m x[:, np\u001b[38;5;241m.\u001b[39mnewaxis]\n",
      "\u001b[0;31mValueError\u001b[0m: x and y can be no greater than 2D, but have shapes (101,) and (101, 1, 1)"
     ]
    },
    {
     "data": {
      "image/png": "[encoded data removed]",
      "text/plain": [
       "<Figure size 640x480 with 1 Axes>"
      ]
     },
     "metadata": {},
     "output_type": "display_data"
    }
   ],
   "source": [
    "def sigmoid(s):\n",
    "    return 1/(1 + np.exp(-s))\n",
    "\n",
    "\n",
    "his_m = []\n",
    "his_loss = []\n",
    "def logistic_sigmoid_regression(X, Y, w_init,  epoch, learn_rate):\n",
    "    \n",
    "    y_predic = sigmoid(np.dot(X, w_init.T))\n",
    "    parl_der = np.dot((y_predic- Y).T, X)\n",
    "    for i in range(epoch + 1):\n",
    "        w_init -= learn_rate*parl_der\n",
    "        y_predic = sigmoid(np.dot(X, w_init.T))\n",
    "        loss = - (np.dot(Y.T, np.log(y_predic)) + np.dot((1-Y).T,np.log(1-y_predic) ))\n",
    "        his_loss.append(loss)\n",
    "print(logistic_sigmoid_regression(X_train, y_train, np.random.rand(1,35), 100, 0.0001))\n",
    "\n",
    "plt.plot(his_loss)\n",
    "plt.show()"
   ]
  }
 ],
 "metadata": {
  "kernelspec": {
   "display_name": "home-credit",
   "language": "python",
   "name": "python3"
  },
  "language_info": {
   "codemirror_mode": {
    "name": "ipython",
    "version": 3
   },
   "file_extension": ".py",
   "mimetype": "text/x-python",
   "name": "python",
   "nbconvert_exporter": "python",
   "pygments_lexer": "ipython3",
   "version": "3.8.18"
  }
 },
 "nbformat": 4,
 "nbformat_minor": 2
}
